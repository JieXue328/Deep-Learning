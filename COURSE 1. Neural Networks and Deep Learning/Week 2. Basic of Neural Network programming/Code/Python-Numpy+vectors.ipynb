{
 "cells": [
  {
   "cell_type": "code",
   "execution_count": 1,
   "metadata": {},
   "outputs": [
    {
     "name": "stdout",
     "output_type": "stream",
     "text": [
      "[-1.28122748 -0.16487814  1.14708397  0.1894055  -2.34329611]\n"
     ]
    }
   ],
   "source": [
    "import numpy as np\n",
    "\n",
    "a = np.random.randn(5)\n",
    "print(a)"
   ]
  },
  {
   "cell_type": "code",
   "execution_count": 2,
   "metadata": {},
   "outputs": [
    {
     "name": "stdout",
     "output_type": "stream",
     "text": [
      "(5,)\n"
     ]
    }
   ],
   "source": [
    "print(a.shape)"
   ]
  },
  {
   "cell_type": "code",
   "execution_count": 3,
   "metadata": {},
   "outputs": [
    {
     "name": "stdout",
     "output_type": "stream",
     "text": [
      "[-1.28122748 -0.16487814  1.14708397  0.1894055  -2.34329611]\n"
     ]
    }
   ],
   "source": [
    "print(a.T)"
   ]
  },
  {
   "cell_type": "code",
   "execution_count": 4,
   "metadata": {},
   "outputs": [
    {
     "name": "stdout",
     "output_type": "stream",
     "text": [
      "8.51144138175\n"
     ]
    }
   ],
   "source": [
    "print(np.dot(a,a.T))"
   ]
  },
  {
   "cell_type": "code",
   "execution_count": 5,
   "metadata": {},
   "outputs": [
    {
     "name": "stdout",
     "output_type": "stream",
     "text": [
      "[[ 0.24082634]\n",
      " [-0.53326073]\n",
      " [-0.3990579 ]\n",
      " [ 0.4595233 ]\n",
      " [ 0.31230543]]\n"
     ]
    }
   ],
   "source": [
    "a = np.random.randn(5,1)\n",
    "print(a)"
   ]
  },
  {
   "cell_type": "code",
   "execution_count": 6,
   "metadata": {},
   "outputs": [
    {
     "name": "stdout",
     "output_type": "stream",
     "text": [
      "[[ 0.24082634 -0.53326073 -0.3990579   0.4595233   0.31230543]]\n"
     ]
    }
   ],
   "source": [
    "print(a.T)"
   ]
  },
  {
   "cell_type": "code",
   "execution_count": 7,
   "metadata": {},
   "outputs": [
    {
     "name": "stdout",
     "output_type": "stream",
     "text": [
      "[[ 0.05799733 -0.12842323 -0.09610366  0.11066532  0.07521138]\n",
      " [-0.12842323  0.284367    0.21280191 -0.24504573 -0.16654022]\n",
      " [-0.09610366  0.21280191  0.15924721 -0.18337641 -0.12462795]\n",
      " [ 0.11066532 -0.24504573 -0.18337641  0.21116166  0.14351162]\n",
      " [ 0.07521138 -0.16654022 -0.12462795  0.14351162  0.09753468]]\n"
     ]
    }
   ],
   "source": [
    "print(np.dot(a,a.T))"
   ]
  },
  {
   "cell_type": "code",
   "execution_count": 9,
   "metadata": {},
   "outputs": [
    {
     "name": "stdout",
     "output_type": "stream",
     "text": [
      "[[-0.31551672 -1.67635681 -1.56676007]\n",
      " [-0.15194074  0.01592677  1.99635333]]\n"
     ]
    }
   ],
   "source": [
    "a = np.random.randn(2, 3) # a.shape = (2, 3)\n",
    "b = np.random.randn(2, 1) # b.shape = (2, 1)\n",
    "c = a + b\n",
    "print(c)"
   ]
  },
  {
   "cell_type": "code",
   "execution_count": 11,
   "metadata": {},
   "outputs": [
    {
     "name": "stdout",
     "output_type": "stream",
     "text": [
      "[[ 1.53445148  1.20567491 -0.57429593]\n",
      " [-0.02825688  1.24860178 -0.27979023]\n",
      " [-0.10285918 -0.21499606 -0.04147656]]\n"
     ]
    }
   ],
   "source": [
    "a = np.random.randn(3, 3)\n",
    "b = np.random.randn(3, 1)\n",
    "c = a*b\n",
    "print(c)"
   ]
  },
  {
   "cell_type": "code",
   "execution_count": 15,
   "metadata": {},
   "outputs": [
    {
     "name": "stdout",
     "output_type": "stream",
     "text": [
      "[[ 1.01762933 -2.01288072  1.89087962  1.02076195]\n",
      " [ 0.6663651   0.60377242  0.42231545 -0.05381565]\n",
      " [ 0.87925728 -0.28968326  2.12329033  2.56383403]]\n"
     ]
    }
   ],
   "source": [
    "a = np.random.randn(3, 4)\n",
    "b = np.random.randn(4, 1)\n",
    "c = a + b.T\n",
    "print(c)"
   ]
  },
  {
   "cell_type": "code",
   "execution_count": null,
   "metadata": {
    "collapsed": true
   },
   "outputs": [],
   "source": []
  }
 ],
 "metadata": {
  "kernelspec": {
   "display_name": "Python 3",
   "language": "python",
   "name": "python3"
  },
  "language_info": {
   "codemirror_mode": {
    "name": "ipython",
    "version": 3
   },
   "file_extension": ".py",
   "mimetype": "text/x-python",
   "name": "python",
   "nbconvert_exporter": "python",
   "pygments_lexer": "ipython3",
   "version": "3.6.3"
  }
 },
 "nbformat": 4,
 "nbformat_minor": 2
}
